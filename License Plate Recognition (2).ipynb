{
 "cells": [
  {
   "cell_type": "code",
   "execution_count": 2,
   "id": "0bc22a4c",
   "metadata": {},
   "outputs": [
    {
     "name": "stdout",
     "output_type": "stream",
     "text": [
      "Defaulting to user installation because normal site-packages is not writeable\n",
      "Requirement already satisfied: opencv-contrib-python in c:\\users\\pc\\appdata\\roaming\\python\\python39\\site-packages (4.7.0.72)\n",
      "Requirement already satisfied: numpy>=1.19.3 in c:\\users\\pc\\appdata\\roaming\\python\\python39\\site-packages (from opencv-contrib-python) (1.24.1)\n",
      "Note: you may need to restart the kernel to use updated packages.\n"
     ]
    },
    {
     "name": "stderr",
     "output_type": "stream",
     "text": [
      "\n",
      "[notice] A new release of pip available: 22.3.1 -> 23.0.1\n",
      "[notice] To update, run: python.exe -m pip install --upgrade pip\n"
     ]
    }
   ],
   "source": [
    "pip install opencv-contrib-python"
   ]
  },
  {
   "cell_type": "code",
   "execution_count": 3,
   "id": "a16adfcb",
   "metadata": {
    "scrolled": true
   },
   "outputs": [
    {
     "name": "stdout",
     "output_type": "stream",
     "text": [
      "Defaulting to user installation because normal site-packages is not writeable\n",
      "Requirement already satisfied: pytesseract in c:\\users\\pc\\appdata\\roaming\\python\\python39\\site-packages (0.3.10)\n",
      "Requirement already satisfied: packaging>=21.3 in c:\\users\\pc\\appdata\\roaming\\python\\python39\\site-packages (from pytesseract) (22.0)\n",
      "Requirement already satisfied: Pillow>=8.0.0 in c:\\users\\pc\\appdata\\roaming\\python\\python39\\site-packages (from pytesseract) (9.4.0)\n",
      "Note: you may need to restart the kernel to use updated packages.\n"
     ]
    },
    {
     "name": "stderr",
     "output_type": "stream",
     "text": [
      "\n",
      "[notice] A new release of pip available: 22.3.1 -> 23.0.1\n",
      "[notice] To update, run: python.exe -m pip install --upgrade pip\n"
     ]
    }
   ],
   "source": [
    "pip install pytesseract"
   ]
  },
  {
   "cell_type": "code",
   "execution_count": 4,
   "id": "90564b15",
   "metadata": {},
   "outputs": [
    {
     "name": "stdout",
     "output_type": "stream",
     "text": [
      "Defaulting to user installation because normal site-packages is not writeable\n",
      "Requirement already satisfied: imutils in c:\\users\\pc\\appdata\\roaming\\python\\python39\\site-packages (0.5.4)\n",
      "Note: you may need to restart the kernel to use updated packages.\n"
     ]
    },
    {
     "name": "stderr",
     "output_type": "stream",
     "text": [
      "\n",
      "[notice] A new release of pip available: 22.3.1 -> 23.0.1\n",
      "[notice] To update, run: python.exe -m pip install --upgrade pip\n"
     ]
    }
   ],
   "source": [
    "pip install imutils"
   ]
  },
  {
   "cell_type": "code",
   "execution_count": 5,
   "id": "1fe0ceae",
   "metadata": {},
   "outputs": [],
   "source": [
    "import cv2\n",
    "import imutils\n",
    "import pytesseract"
   ]
  },
  {
   "cell_type": "code",
   "execution_count": 6,
   "id": "2c581ccf",
   "metadata": {},
   "outputs": [],
   "source": [
    "pytesseract.pytesseract.tesseract_cmd = 'C:\\Program Files\\Tesseract-OCR\\\\tesseract'"
   ]
  },
  {
   "cell_type": "code",
   "execution_count": 7,
   "id": "53fb550d",
   "metadata": {},
   "outputs": [],
   "source": [
    "def values():\n",
    "    image = cv2.imread('license.jpg')\n",
    "    image = imutils.resize(image, width=300 )\n",
    "    cv2.imshow(\"original image\", image)\n",
    "    cv2.waitKey(0)\n",
    "    gray_image = cv2.cvtColor(image, cv2.COLOR_BGR2GRAY)\n",
    "    cv2.imshow(\"greyed image\", gray_image)\n",
    "    cv2.waitKey(0)\n",
    "    gray_image = cv2.bilateralFilter(gray_image, 11, 17, 17) \n",
    "    cv2.imshow(\"smoothened image\", gray_image)\n",
    "    cv2.waitKey(0)\n",
    "    edged = cv2.Canny(gray_image, 30, 200) \n",
    "    cv2.imshow(\"edged image\", edged)\n",
    "    cv2.waitKey(0)\n",
    "    cnts,new = cv2.findContours(edged.copy(), cv2.RETR_LIST, cv2.CHAIN_APPROX_SIMPLE)\n",
    "    image1=image.copy()\n",
    "    cv2.drawContours(image1,cnts,-1,(0,255,0),3)\n",
    "    cv2.imshow(\"contours\",image1)\n",
    "    cv2.waitKey(0)\n",
    "    cnts = sorted(cnts, key = cv2.contourArea, reverse = True) [:30]\n",
    "    screenCnt = None\n",
    "    image2 = image.copy()\n",
    "    cv2.drawContours(image2,cnts,-1,(0,255,0),3)\n",
    "    cv2.imshow(\"Top 30 contours\",image2)\n",
    "    cv2.waitKey(0)\n",
    "    i=7\n",
    "    for c in cnts:\n",
    "        perimeter = cv2.arcLength(c, True)\n",
    "        approx = cv2.approxPolyDP(c, 0.018 * perimeter, True)\n",
    "        if len(approx) == 4: \n",
    "                screenCnt = approx\n",
    "                \n",
    "        x,y,w,h = cv2.boundingRect(c) \n",
    "        new_img=image[y:y+h,x:x+w]\n",
    "        cv2.imwrite('./'+str(i)+'.png',new_img)\n",
    "        i+=1\n",
    "        break\n",
    "\n",
    "        cv2.drawContours(image, [screenCnt], -1, (0, 255, 0), 3)\n",
    "        cv2.imshow(\"image with detected license plate\", image)\n",
    "        cv2.waitKey(0)\n",
    "\n",
    "    Cropped_loc = './7.png'\n",
    "    cv2.imshow(\"cropped\", cv2.imread(Cropped_loc))\n",
    "    text = pytesseract.image_to_string(Cropped_loc)\n",
    "    print(text[:-1])\n",
    "    cv2.waitKey(0)\n",
    "    cv2.destroyAllWindows()\n"
   ]
  },
  {
   "cell_type": "code",
   "execution_count": null,
   "id": "412abb44",
   "metadata": {},
   "outputs": [
    {
     "name": "stdout",
     "output_type": "stream",
     "text": [
      "\n"
     ]
    }
   ],
   "source": [
    "import tkinter as tk\n",
    "import tkinter\n",
    "from PIL import ImageTk, Image  \n",
    "import tkinter.font as tkFont\n",
    "from PIL import Image\n",
    "from ipywidgets import FileUpload\n",
    "from tkinter import filedialog\n",
    "from tkinter.filedialog import askopenfile\n",
    "\n",
    "\n",
    "root = tk.Tk()\n",
    "\n",
    "canvas1=tk.Canvas(root, width = 1000, height = 500)\n",
    "canvas1.pack()\n",
    "\n",
    "canvas1.configure(bg='light blue')\n",
    "\n",
    "label1= tk.Label(root, text=' License Plate Recognition ', font=('Times', 20))\n",
    "canvas1.create_window(150, 30, window=label1)\n",
    "label2= tk.Label(root,text='Original Image', font=('Helvetica bold', 15))\n",
    "canvas1.create_window(750, 80, window=label2)\n",
    "\n",
    "button1 = tk.Button (root, text='Predict the license plate',command=values, bg='orange', font=('Helvetica bold', 12))\n",
    "canvas1.create_window(150, 180, window=button1)\n",
    "button2 = tk.Button (root, text='Upload Image',command = lambda:upload_file(), bg='orange', font=('Helvetica bold', 12))\n",
    "canvas1.create_window(150, 140, window=button2)\n",
    "\n",
    "label4= tk.Label(root,text='The license plate will appear in a different window', font=('Helvetica bold', 13))\n",
    "canvas1.create_window(200, 300, window=label4) \n",
    "\n",
    "label5= tk.Label(root,text='Blur any other text for best results', font=('Helvetica bold', 13))\n",
    "canvas1.create_window(207, 320, window=label5)\n",
    "\n",
    "def upload_file():\n",
    "    global img\n",
    "    f_types = [('Jpg Files', '*.jpg')]\n",
    "    filename = filedialog.askopenfilename(filetypes=f_types)\n",
    "    img = ImageTk.PhotoImage(file=filename)\n",
    "    img=Image.open(filename)\n",
    "    img_resized=img.resize((400,300)) # new width & height\n",
    "    img=ImageTk.PhotoImage(img_resized)\n",
    "    label9= tk.Label(root,image=img)\n",
    "    canvas1.create_window(750,280, window=label9)\n",
    "\n",
    "root.mainloop()"
   ]
  },
  {
   "cell_type": "code",
   "execution_count": null,
   "id": "7962393e",
   "metadata": {},
   "outputs": [],
   "source": []
  }
 ],
 "metadata": {
  "kernelspec": {
   "display_name": "Python 3 (ipykernel)",
   "language": "python",
   "name": "python3"
  },
  "language_info": {
   "codemirror_mode": {
    "name": "ipython",
    "version": 3
   },
   "file_extension": ".py",
   "mimetype": "text/x-python",
   "name": "python",
   "nbconvert_exporter": "python",
   "pygments_lexer": "ipython3",
   "version": "3.9.7"
  }
 },
 "nbformat": 4,
 "nbformat_minor": 5
}
